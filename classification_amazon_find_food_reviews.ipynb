{
  "nbformat": 4,
  "nbformat_minor": 0,
  "metadata": {
    "colab": {
      "name": "classification_amazon_find_food_reviews.ipynb",
      "provenance": [],
      "collapsed_sections": [
        "qjJTy6Cdg66y",
        "wrWCf4wPGwGx",
        "ShOhEJY6IV7Y"
      ],
      "authorship_tag": "ABX9TyOUOHGT2at0qxJl0TtOxkaZ",
      "include_colab_link": true
    },
    "kernelspec": {
      "name": "python3",
      "display_name": "Python 3"
    }
  },
  "cells": [
    {
      "cell_type": "markdown",
      "metadata": {
        "id": "view-in-github",
        "colab_type": "text"
      },
      "source": [
        "<a href=\"https://colab.research.google.com/github/poorghorban/Classification_Amazon_Find_Food_Reviews/blob/master/classification_amazon_find_food_reviews.ipynb\" target=\"_parent\"><img src=\"https://colab.research.google.com/assets/colab-badge.svg\" alt=\"Open In Colab\"/></a>"
      ]
    },
    {
      "cell_type": "markdown",
      "metadata": {
        "id": "I4dh3Wgcgd-J",
        "colab_type": "text"
      },
      "source": [
        "# **Classification Amazon Find Food Reviews**"
      ]
    },
    {
      "cell_type": "markdown",
      "metadata": {
        "id": "Y9lRYx2ug25o",
        "colab_type": "text"
      },
      "source": [
        "requirment:\n",
        "- python 3.x\n",
        "- pip install pandas\n",
        "- pip install tensorflow\n",
        "- pip install keras \n",
        "- pip install matplotlib\n",
        "- pip install nltk\n",
        "- pip install gensim"
      ]
    },
    {
      "cell_type": "markdown",
      "metadata": {
        "id": "qjJTy6Cdg66y",
        "colab_type": "text"
      },
      "source": [
        "##**Step1: Loading Data**"
      ]
    },
    {
      "cell_type": "code",
      "metadata": {
        "id": "4wNQx8kGFJ59",
        "colab_type": "code",
        "colab": {}
      },
      "source": [
        "from google.colab import drive\n",
        "import pandas as pd "
      ],
      "execution_count": null,
      "outputs": []
    },
    {
      "cell_type": "code",
      "metadata": {
        "id": "DRTgD_7I6ErP",
        "colab_type": "code",
        "colab": {
          "base_uri": "https://localhost:8080/",
          "height": 122
        },
        "outputId": "026fca31-bfef-4a44-d435-e5ee071ee661"
      },
      "source": [
        "## connect to google drive\n",
        "drive.mount('/content/drive',force_remount=True)"
      ],
      "execution_count": null,
      "outputs": [
        {
          "output_type": "stream",
          "text": [
            "Go to this URL in a browser: https://accounts.google.com/o/oauth2/auth?client_id=947318989803-6bn6qk8qdgf4n4g3pfee6491hc0brc4i.apps.googleusercontent.com&redirect_uri=urn%3aietf%3awg%3aoauth%3a2.0%3aoob&response_type=code&scope=email%20https%3a%2f%2fwww.googleapis.com%2fauth%2fdocs.test%20https%3a%2f%2fwww.googleapis.com%2fauth%2fdrive%20https%3a%2f%2fwww.googleapis.com%2fauth%2fdrive.photos.readonly%20https%3a%2f%2fwww.googleapis.com%2fauth%2fpeopleapi.readonly\n",
            "\n",
            "Enter your authorization code:\n",
            "··········\n",
            "Mounted at /content/drive\n"
          ],
          "name": "stdout"
        }
      ]
    },
    {
      "cell_type": "code",
      "metadata": {
        "id": "0uKYnuQVEyqf",
        "colab_type": "code",
        "colab": {}
      },
      "source": [
        "## dataset path \n",
        "data_file_path ='/content/drive/My Drive/Google Colab/Amazon Fine Food Reviews/amazon_fine_food_reviews.csv'"
      ],
      "execution_count": null,
      "outputs": []
    },
    {
      "cell_type": "code",
      "metadata": {
        "id": "yKKy1qOhFG3b",
        "colab_type": "code",
        "colab": {}
      },
      "source": [
        "## read data from file \n",
        "df = pd.read_csv(data_file_path)"
      ],
      "execution_count": null,
      "outputs": []
    },
    {
      "cell_type": "code",
      "metadata": {
        "id": "TPLPEPp9FVCN",
        "colab_type": "code",
        "colab": {
          "base_uri": "https://localhost:8080/",
          "height": 306
        },
        "outputId": "08ffdf08-d503-4f4d-8b53-081e5615f0cd"
      },
      "source": [
        "## show data \n",
        "df.head()"
      ],
      "execution_count": null,
      "outputs": [
        {
          "output_type": "execute_result",
          "data": {
            "text/html": [
              "<div>\n",
              "<style scoped>\n",
              "    .dataframe tbody tr th:only-of-type {\n",
              "        vertical-align: middle;\n",
              "    }\n",
              "\n",
              "    .dataframe tbody tr th {\n",
              "        vertical-align: top;\n",
              "    }\n",
              "\n",
              "    .dataframe thead th {\n",
              "        text-align: right;\n",
              "    }\n",
              "</style>\n",
              "<table border=\"1\" class=\"dataframe\">\n",
              "  <thead>\n",
              "    <tr style=\"text-align: right;\">\n",
              "      <th></th>\n",
              "      <th>Id</th>\n",
              "      <th>ProductId</th>\n",
              "      <th>UserId</th>\n",
              "      <th>ProfileName</th>\n",
              "      <th>HelpfulnessNumerator</th>\n",
              "      <th>HelpfulnessDenominator</th>\n",
              "      <th>Score</th>\n",
              "      <th>Time</th>\n",
              "      <th>Summary</th>\n",
              "      <th>Text</th>\n",
              "    </tr>\n",
              "  </thead>\n",
              "  <tbody>\n",
              "    <tr>\n",
              "      <th>0</th>\n",
              "      <td>1</td>\n",
              "      <td>B001E4KFG0</td>\n",
              "      <td>A3SGXH7AUHU8GW</td>\n",
              "      <td>delmartian</td>\n",
              "      <td>1</td>\n",
              "      <td>1</td>\n",
              "      <td>5</td>\n",
              "      <td>1303862400</td>\n",
              "      <td>Good Quality Dog Food</td>\n",
              "      <td>I have bought several of the Vitality canned d...</td>\n",
              "    </tr>\n",
              "    <tr>\n",
              "      <th>1</th>\n",
              "      <td>2</td>\n",
              "      <td>B00813GRG4</td>\n",
              "      <td>A1D87F6ZCVE5NK</td>\n",
              "      <td>dll pa</td>\n",
              "      <td>0</td>\n",
              "      <td>0</td>\n",
              "      <td>1</td>\n",
              "      <td>1346976000</td>\n",
              "      <td>Not as Advertised</td>\n",
              "      <td>Product arrived labeled as Jumbo Salted Peanut...</td>\n",
              "    </tr>\n",
              "    <tr>\n",
              "      <th>2</th>\n",
              "      <td>3</td>\n",
              "      <td>B000LQOCH0</td>\n",
              "      <td>ABXLMWJIXXAIN</td>\n",
              "      <td>Natalia Corres \"Natalia Corres\"</td>\n",
              "      <td>1</td>\n",
              "      <td>1</td>\n",
              "      <td>4</td>\n",
              "      <td>1219017600</td>\n",
              "      <td>\"Delight\" says it all</td>\n",
              "      <td>This is a confection that has been around a fe...</td>\n",
              "    </tr>\n",
              "    <tr>\n",
              "      <th>3</th>\n",
              "      <td>4</td>\n",
              "      <td>B000UA0QIQ</td>\n",
              "      <td>A395BORC6FGVXV</td>\n",
              "      <td>Karl</td>\n",
              "      <td>3</td>\n",
              "      <td>3</td>\n",
              "      <td>2</td>\n",
              "      <td>1307923200</td>\n",
              "      <td>Cough Medicine</td>\n",
              "      <td>If you are looking for the secret ingredient i...</td>\n",
              "    </tr>\n",
              "    <tr>\n",
              "      <th>4</th>\n",
              "      <td>5</td>\n",
              "      <td>B006K2ZZ7K</td>\n",
              "      <td>A1UQRSCLF8GW1T</td>\n",
              "      <td>Michael D. Bigham \"M. Wassir\"</td>\n",
              "      <td>0</td>\n",
              "      <td>0</td>\n",
              "      <td>5</td>\n",
              "      <td>1350777600</td>\n",
              "      <td>Great taffy</td>\n",
              "      <td>Great taffy at a great price.  There was a wid...</td>\n",
              "    </tr>\n",
              "  </tbody>\n",
              "</table>\n",
              "</div>"
            ],
            "text/plain": [
              "   Id  ...                                               Text\n",
              "0   1  ...  I have bought several of the Vitality canned d...\n",
              "1   2  ...  Product arrived labeled as Jumbo Salted Peanut...\n",
              "2   3  ...  This is a confection that has been around a fe...\n",
              "3   4  ...  If you are looking for the secret ingredient i...\n",
              "4   5  ...  Great taffy at a great price.  There was a wid...\n",
              "\n",
              "[5 rows x 10 columns]"
            ]
          },
          "metadata": {
            "tags": []
          },
          "execution_count": 5
        }
      ]
    },
    {
      "cell_type": "code",
      "metadata": {
        "id": "fPw0YXTBFkjq",
        "colab_type": "code",
        "colab": {
          "base_uri": "https://localhost:8080/",
          "height": 34
        },
        "outputId": "45cf4c7e-0cf3-4971-bd4e-6193bfe8a478"
      },
      "source": [
        "## data shape\n",
        "df.shape"
      ],
      "execution_count": null,
      "outputs": [
        {
          "output_type": "execute_result",
          "data": {
            "text/plain": [
              "(568454, 10)"
            ]
          },
          "metadata": {
            "tags": []
          },
          "execution_count": 6
        }
      ]
    },
    {
      "cell_type": "code",
      "metadata": {
        "id": "8Qx4_4ivF4Ql",
        "colab_type": "code",
        "colab": {}
      },
      "source": [
        "## concate two columns 'Summary' and 'Text'\n",
        "df['review'] = df['Summary'] + ' ' + df['Text']"
      ],
      "execution_count": null,
      "outputs": []
    },
    {
      "cell_type": "code",
      "metadata": {
        "id": "-TIvxZgvGZ0v",
        "colab_type": "code",
        "colab": {}
      },
      "source": [
        "## need two columns 'Score'(label) and 'Summary_Text'(features)\n",
        "df = df[['Score','review']]"
      ],
      "execution_count": null,
      "outputs": []
    },
    {
      "cell_type": "code",
      "metadata": {
        "id": "faYgIw7sGl6F",
        "colab_type": "code",
        "colab": {
          "base_uri": "https://localhost:8080/",
          "height": 204
        },
        "outputId": "cb82a33d-17f1-4dcb-beab-edc6a2d21fdf"
      },
      "source": [
        "## new data\n",
        "df.head()"
      ],
      "execution_count": null,
      "outputs": [
        {
          "output_type": "execute_result",
          "data": {
            "text/html": [
              "<div>\n",
              "<style scoped>\n",
              "    .dataframe tbody tr th:only-of-type {\n",
              "        vertical-align: middle;\n",
              "    }\n",
              "\n",
              "    .dataframe tbody tr th {\n",
              "        vertical-align: top;\n",
              "    }\n",
              "\n",
              "    .dataframe thead th {\n",
              "        text-align: right;\n",
              "    }\n",
              "</style>\n",
              "<table border=\"1\" class=\"dataframe\">\n",
              "  <thead>\n",
              "    <tr style=\"text-align: right;\">\n",
              "      <th></th>\n",
              "      <th>Score</th>\n",
              "      <th>review</th>\n",
              "    </tr>\n",
              "  </thead>\n",
              "  <tbody>\n",
              "    <tr>\n",
              "      <th>0</th>\n",
              "      <td>5</td>\n",
              "      <td>Good Quality Dog Food I have bought several of...</td>\n",
              "    </tr>\n",
              "    <tr>\n",
              "      <th>1</th>\n",
              "      <td>1</td>\n",
              "      <td>Not as Advertised Product arrived labeled as J...</td>\n",
              "    </tr>\n",
              "    <tr>\n",
              "      <th>2</th>\n",
              "      <td>4</td>\n",
              "      <td>\"Delight\" says it all This is a confection tha...</td>\n",
              "    </tr>\n",
              "    <tr>\n",
              "      <th>3</th>\n",
              "      <td>2</td>\n",
              "      <td>Cough Medicine If you are looking for the secr...</td>\n",
              "    </tr>\n",
              "    <tr>\n",
              "      <th>4</th>\n",
              "      <td>5</td>\n",
              "      <td>Great taffy Great taffy at a great price.  The...</td>\n",
              "    </tr>\n",
              "  </tbody>\n",
              "</table>\n",
              "</div>"
            ],
            "text/plain": [
              "   Score                                             review\n",
              "0      5  Good Quality Dog Food I have bought several of...\n",
              "1      1  Not as Advertised Product arrived labeled as J...\n",
              "2      4  \"Delight\" says it all This is a confection tha...\n",
              "3      2  Cough Medicine If you are looking for the secr...\n",
              "4      5  Great taffy Great taffy at a great price.  The..."
            ]
          },
          "metadata": {
            "tags": []
          },
          "execution_count": 9
        }
      ]
    },
    {
      "cell_type": "code",
      "metadata": {
        "id": "u6GNpjpwGqc9",
        "colab_type": "code",
        "colab": {
          "base_uri": "https://localhost:8080/",
          "height": 34
        },
        "outputId": "a71b5b4c-c314-4d41-ca0b-272512a5c0d1"
      },
      "source": [
        "## data shape\n",
        "df.shape"
      ],
      "execution_count": null,
      "outputs": [
        {
          "output_type": "execute_result",
          "data": {
            "text/plain": [
              "(568454, 2)"
            ]
          },
          "metadata": {
            "tags": []
          },
          "execution_count": 10
        }
      ]
    },
    {
      "cell_type": "code",
      "metadata": {
        "id": "165mcbHbGvrO",
        "colab_type": "code",
        "colab": {}
      },
      "source": [
        ""
      ],
      "execution_count": null,
      "outputs": []
    },
    {
      "cell_type": "markdown",
      "metadata": {
        "id": "wrWCf4wPGwGx",
        "colab_type": "text"
      },
      "source": [
        "## **Step2: Analysing Data**"
      ]
    },
    {
      "cell_type": "markdown",
      "metadata": {
        "id": "ISEIhOkRG1Hk",
        "colab_type": "text"
      },
      "source": [
        "#### **Missing Value**"
      ]
    },
    {
      "cell_type": "code",
      "metadata": {
        "id": "3av8l2_HG0Sg",
        "colab_type": "code",
        "colab": {
          "base_uri": "https://localhost:8080/",
          "height": 68
        },
        "outputId": "3c893ca7-4803-423e-8aff-66cd75db78dc"
      },
      "source": [
        "## check exsist missing value\n",
        "df.isnull().sum()"
      ],
      "execution_count": null,
      "outputs": [
        {
          "output_type": "execute_result",
          "data": {
            "text/plain": [
              "Score      0\n",
              "review    27\n",
              "dtype: int64"
            ]
          },
          "metadata": {
            "tags": []
          },
          "execution_count": 11
        }
      ]
    },
    {
      "cell_type": "code",
      "metadata": {
        "id": "6MytYwIxG8k2",
        "colab_type": "code",
        "colab": {
          "base_uri": "https://localhost:8080/",
          "height": 68
        },
        "outputId": "6cd043c7-3af8-4340-c1d3-5422ad854d81"
      },
      "source": [
        "## drop rows where at least one element is missing\n",
        "df = df.dropna()\n",
        "df.isnull().sum()"
      ],
      "execution_count": null,
      "outputs": [
        {
          "output_type": "execute_result",
          "data": {
            "text/plain": [
              "Score     0\n",
              "review    0\n",
              "dtype: int64"
            ]
          },
          "metadata": {
            "tags": []
          },
          "execution_count": 12
        }
      ]
    },
    {
      "cell_type": "markdown",
      "metadata": {
        "id": "2ZmloXXcHAkB",
        "colab_type": "text"
      },
      "source": [
        "#### **Bar plot score**"
      ]
    },
    {
      "cell_type": "code",
      "metadata": {
        "id": "pCaAQiDKG_zl",
        "colab_type": "code",
        "colab": {}
      },
      "source": [
        "import matplotlib.pyplot as plt"
      ],
      "execution_count": null,
      "outputs": []
    },
    {
      "cell_type": "code",
      "metadata": {
        "id": "jUFacvGrHJKM",
        "colab_type": "code",
        "colab": {}
      },
      "source": [
        "## find unique score and counts\n",
        "b = df['Score'].value_counts()\n",
        "score_range , score_counts = list(b.index) , list(b.values)"
      ],
      "execution_count": null,
      "outputs": []
    },
    {
      "cell_type": "code",
      "metadata": {
        "id": "XrEWds2dHVU2",
        "colab_type": "code",
        "colab": {
          "base_uri": "https://localhost:8080/",
          "height": 387
        },
        "outputId": "58c67370-b2c8-46fd-a667-e867e1939272"
      },
      "source": [
        "## bar plot \n",
        "plt.figure(figsize=(10,5))\n",
        "bars = plt.bar(x=score_range , height=score_counts , width=0.5)\n",
        "xlocs, xlabs = plt.xticks()\n",
        "xlocs=[i for i in score_range]\n",
        "xlabs=[i for i in score_range]\n",
        "plt.xlabel('Score')\n",
        "plt.ylabel('counts')\n",
        "plt.xticks(xlocs, xlabs)\n",
        "for bar in bars:\n",
        "    yval = bar.get_height()\n",
        "    plt.text(bar.get_x()+0.07, yval + 0.005, yval)\n",
        "plt.suptitle('Bar Plot Counts of Score' , fontsize=15)"
      ],
      "execution_count": null,
      "outputs": [
        {
          "output_type": "execute_result",
          "data": {
            "text/plain": [
              "Text(0.5, 0.98, 'Bar Plot Counts of Score')"
            ]
          },
          "metadata": {
            "tags": []
          },
          "execution_count": 15
        },
        {
          "output_type": "display_data",
          "data": {
            "image/png": "[encoded data removed]",
            "text/plain": [
              "<Figure size 720x360 with 1 Axes>"
            ]
          },
          "metadata": {
            "tags": [],
            "needs_background": "light"
          }
        }
      ]
    },
    {
      "cell_type": "code",
      "metadata": {
        "id": "3yb-yaXKHvfJ",
        "colab_type": "code",
        "colab": {}
      },
      "source": [
        ""
      ],
      "execution_count": null,
      "outputs": []
    },
    {
      "cell_type": "markdown",
      "metadata": {
        "id": "YIigy_iTHwH2",
        "colab_type": "text"
      },
      "source": [
        "#### **Box plot length of text reviews**"
      ]
    },
    {
      "cell_type": "code",
      "metadata": {
        "id": "-_fSGBB5H4Av",
        "colab_type": "code",
        "colab": {}
      },
      "source": [
        "import matplotlib.pyplot as plt"
      ],
      "execution_count": null,
      "outputs": []
    },
    {
      "cell_type": "code",
      "metadata": {
        "id": "djfILxXdH7C5",
        "colab_type": "code",
        "colab": {}
      },
      "source": [
        "## find length of texts \n",
        "len_texts = df['review'].apply(lambda t : len(t)).values"
      ],
      "execution_count": null,
      "outputs": []
    },
    {
      "cell_type": "code",
      "metadata": {
        "id": "xujw5LAcICHp",
        "colab_type": "code",
        "colab": {
          "base_uri": "https://localhost:8080/",
          "height": 387
        },
        "outputId": "1c52bd7c-7a68-4a2c-e9ee-a4f9b725464c"
      },
      "source": [
        "fig , (ax1,ax2) = plt.subplots(nrows=1 , ncols=2 , figsize=(10,5))\n",
        "## box plot \n",
        "ax1.boxplot(len_texts)\n",
        "ax1.set_xlabel('text')\n",
        "ax1.set_ylabel('length')\n",
        "## box plot with hide outlier points\n",
        "ax2.boxplot(len_texts , showfliers=False)\n",
        "ax2.set_title('Hide Outlier Points')\n",
        "ax2.set_xlabel('text')\n",
        "plt.suptitle('Box Plot Length of Text Review' , fontsize=15)"
      ],
      "execution_count": null,
      "outputs": [
        {
          "output_type": "execute_result",
          "data": {
            "text/plain": [
              "Text(0.5, 0.98, 'Box Plot Length of Text Review')"
            ]
          },
          "metadata": {
            "tags": []
          },
          "execution_count": 18
        },
        {
          "output_type": "display_data",
          "data": {
            "image/png": "[encoded data removed]",
            "text/plain": [
              "<Figure size 720x360 with 2 Axes>"
            ]
          },
          "metadata": {
            "tags": [],
            "needs_background": "light"
          }
        }
      ]
    },
    {
      "cell_type": "code",
      "metadata": {
        "id": "HJH9Xa2GIVb8",
        "colab_type": "code",
        "colab": {}
      },
      "source": [
        ""
      ],
      "execution_count": null,
      "outputs": []
    },
    {
      "cell_type": "markdown",
      "metadata": {
        "id": "ShOhEJY6IV7Y",
        "colab_type": "text"
      },
      "source": [
        "## **Step3 : Train and Test Sets**"
      ]
    },
    {
      "cell_type": "code",
      "metadata": {
        "id": "XMcIcvBAIcg0",
        "colab_type": "code",
        "colab": {}
      },
      "source": [
        "## hyperparameter \n",
        "training_portion = 0.9"
      ],
      "execution_count": null,
      "outputs": []
    },
    {
      "cell_type": "code",
      "metadata": {
        "id": "6lqgkce-IkAl",
        "colab_type": "code",
        "colab": {}
      },
      "source": [
        "## split data to train and test sets\n",
        "train=df.sample(frac=training_portion,random_state=200) #random state is a seed value\n",
        "test=df.drop(train.index)"
      ],
      "execution_count": null,
      "outputs": []
    },
    {
      "cell_type": "code",
      "metadata": {
        "id": "infJxW-9IpvK",
        "colab_type": "code",
        "colab": {
          "base_uri": "https://localhost:8080/",
          "height": 204
        },
        "outputId": "b5cee615-b721-4f88-ca55-0caf40748e3a"
      },
      "source": [
        "## show train set\n",
        "train.head()"
      ],
      "execution_count": null,
      "outputs": [
        {
          "output_type": "execute_result",
          "data": {
            "text/html": [
              "<div>\n",
              "<style scoped>\n",
              "    .dataframe tbody tr th:only-of-type {\n",
              "        vertical-align: middle;\n",
              "    }\n",
              "\n",
              "    .dataframe tbody tr th {\n",
              "        vertical-align: top;\n",
              "    }\n",
              "\n",
              "    .dataframe thead th {\n",
              "        text-align: right;\n",
              "    }\n",
              "</style>\n",
              "<table border=\"1\" class=\"dataframe\">\n",
              "  <thead>\n",
              "    <tr style=\"text-align: right;\">\n",
              "      <th></th>\n",
              "      <th>Score</th>\n",
              "      <th>review</th>\n",
              "    </tr>\n",
              "  </thead>\n",
              "  <tbody>\n",
              "    <tr>\n",
              "      <th>332577</th>\n",
              "      <td>5</td>\n",
              "      <td>Yummy Delicious :)  I was in Publix yesterday ...</td>\n",
              "    </tr>\n",
              "    <tr>\n",
              "      <th>306935</th>\n",
              "      <td>4</td>\n",
              "      <td>Okay but not the same as the larger ones I fin...</td>\n",
              "    </tr>\n",
              "    <tr>\n",
              "      <th>460063</th>\n",
              "      <td>5</td>\n",
              "      <td>Not just for running Typically a marathon runn...</td>\n",
              "    </tr>\n",
              "    <tr>\n",
              "      <th>562071</th>\n",
              "      <td>1</td>\n",
              "      <td>What a waste We tried this product tonight for...</td>\n",
              "    </tr>\n",
              "    <tr>\n",
              "      <th>145608</th>\n",
              "      <td>5</td>\n",
              "      <td>You don't know what you are missing If you hav...</td>\n",
              "    </tr>\n",
              "  </tbody>\n",
              "</table>\n",
              "</div>"
            ],
            "text/plain": [
              "        Score                                             review\n",
              "332577      5  Yummy Delicious :)  I was in Publix yesterday ...\n",
              "306935      4  Okay but not the same as the larger ones I fin...\n",
              "460063      5  Not just for running Typically a marathon runn...\n",
              "562071      1  What a waste We tried this product tonight for...\n",
              "145608      5  You don't know what you are missing If you hav..."
            ]
          },
          "metadata": {
            "tags": []
          },
          "execution_count": 21
        }
      ]
    },
    {
      "cell_type": "code",
      "metadata": {
        "id": "E1dSgFIdIv2K",
        "colab_type": "code",
        "colab": {
          "base_uri": "https://localhost:8080/",
          "height": 204
        },
        "outputId": "d716fa90-f12a-4e4f-98c8-a4259450f339"
      },
      "source": [
        "## show test set\n",
        "test.head()"
      ],
      "execution_count": null,
      "outputs": [
        {
          "output_type": "execute_result",
          "data": {
            "text/html": [
              "<div>\n",
              "<style scoped>\n",
              "    .dataframe tbody tr th:only-of-type {\n",
              "        vertical-align: middle;\n",
              "    }\n",
              "\n",
              "    .dataframe tbody tr th {\n",
              "        vertical-align: top;\n",
              "    }\n",
              "\n",
              "    .dataframe thead th {\n",
              "        text-align: right;\n",
              "    }\n",
              "</style>\n",
              "<table border=\"1\" class=\"dataframe\">\n",
              "  <thead>\n",
              "    <tr style=\"text-align: right;\">\n",
              "      <th></th>\n",
              "      <th>Score</th>\n",
              "      <th>review</th>\n",
              "    </tr>\n",
              "  </thead>\n",
              "  <tbody>\n",
              "    <tr>\n",
              "      <th>0</th>\n",
              "      <td>5</td>\n",
              "      <td>Good Quality Dog Food I have bought several of...</td>\n",
              "    </tr>\n",
              "    <tr>\n",
              "      <th>2</th>\n",
              "      <td>4</td>\n",
              "      <td>\"Delight\" says it all This is a confection tha...</td>\n",
              "    </tr>\n",
              "    <tr>\n",
              "      <th>9</th>\n",
              "      <td>5</td>\n",
              "      <td>Healthy Dog Food This is a very healthy dog fo...</td>\n",
              "    </tr>\n",
              "    <tr>\n",
              "      <th>13</th>\n",
              "      <td>4</td>\n",
              "      <td>fresh and greasy! good flavor! these came secu...</td>\n",
              "    </tr>\n",
              "    <tr>\n",
              "      <th>33</th>\n",
              "      <td>4</td>\n",
              "      <td>Good Instant This is a good instant oatmeal fr...</td>\n",
              "    </tr>\n",
              "  </tbody>\n",
              "</table>\n",
              "</div>"
            ],
            "text/plain": [
              "    Score                                             review\n",
              "0       5  Good Quality Dog Food I have bought several of...\n",
              "2       4  \"Delight\" says it all This is a confection tha...\n",
              "9       5  Healthy Dog Food This is a very healthy dog fo...\n",
              "13      4  fresh and greasy! good flavor! these came secu...\n",
              "33      4  Good Instant This is a good instant oatmeal fr..."
            ]
          },
          "metadata": {
            "tags": []
          },
          "execution_count": 22
        }
      ]
    },
    {
      "cell_type": "code",
      "metadata": {
        "id": "stqV-ctJI2jd",
        "colab_type": "code",
        "colab": {
          "base_uri": "https://localhost:8080/",
          "height": 51
        },
        "outputId": "50da7fa7-4815-4bb2-c9b6-359d3d46f48b"
      },
      "source": [
        "## show train and test set shape\n",
        "display(train.shape)\n",
        "display(test.shape)"
      ],
      "execution_count": null,
      "outputs": [
        {
          "output_type": "display_data",
          "data": {
            "text/plain": [
              "(511584, 2)"
            ]
          },
          "metadata": {
            "tags": []
          }
        },
        {
          "output_type": "display_data",
          "data": {
            "text/plain": [
              "(56843, 2)"
            ]
          },
          "metadata": {
            "tags": []
          }
        }
      ]
    },
    {
      "cell_type": "code",
      "metadata": {
        "id": "IqbnASXGI_Yo",
        "colab_type": "code",
        "colab": {}
      },
      "source": [
        ""
      ],
      "execution_count": null,
      "outputs": []
    },
    {
      "cell_type": "markdown",
      "metadata": {
        "id": "iw42LGMZI_ow",
        "colab_type": "text"
      },
      "source": [
        "## **Step4: Preprocessing Data**"
      ]
    },
    {
      "cell_type": "code",
      "metadata": {
        "id": "Erqsef8zJKiQ",
        "colab_type": "code",
        "colab": {}
      },
      "source": [
        "import string \n",
        "import nltk"
      ],
      "execution_count": null,
      "outputs": []
    },
    {
      "cell_type": "code",
      "metadata": {
        "id": "lILuNu98JQpi",
        "colab_type": "code",
        "colab": {}
      },
      "source": [
        "## download nltk library\n",
        "nltk.download(\"popular\")"
      ],
      "execution_count": null,
      "outputs": []
    },
    {
      "cell_type": "code",
      "metadata": {
        "id": "o5B8Yr1bJaGo",
        "colab_type": "code",
        "colab": {}
      },
      "source": [
        "def clean_text(text):\n",
        "  # convert to lowercase\n",
        "  text = text.lower()\n",
        "  # remove punctuation and digits \n",
        "  punc_digits = '!\"#$%&\\'()*+,-./:;<=>?@[\\\\]^_`{|}~0123456789\\n\\t'\n",
        "  text = text.translate(str.maketrans('','',punc_digits))\n",
        "  # tokenize \n",
        "  tokens = nltk.word_tokenize(text)\n",
        "  # lemmatize and remove stopwords\n",
        "  stopwords = nltk.corpus.stopwords.words('english')\n",
        "  lemmatizer = nltk.stem.WordNetLemmatizer()\n",
        "  new_text = ''\n",
        "  for token in tokens:\n",
        "    # word rooting\n",
        "    token = lemmatizer.lemmatize(token)\n",
        "    if token not in stopwords:\n",
        "      # not stopword add to array\n",
        "      new_text = new_text + ' ' + token\n",
        "  return new_text"
      ],
      "execution_count": null,
      "outputs": []
    },
    {
      "cell_type": "code",
      "metadata": {
        "id": "9R0qcP2yJdZ7",
        "colab_type": "code",
        "colab": {}
      },
      "source": [
        "## preprocessing train set \n",
        "train['review'] = train['review'].map(lambda t: clean_text(t))"
      ],
      "execution_count": null,
      "outputs": []
    },
    {
      "cell_type": "code",
      "metadata": {
        "id": "CEMiPv4jLZwq",
        "colab_type": "code",
        "colab": {
          "base_uri": "https://localhost:8080/",
          "height": 204
        },
        "outputId": "f880d116-aba3-4f06-ede6-32f058e64519"
      },
      "source": [
        "## show train set\n",
        "train.head()"
      ],
      "execution_count": null,
      "outputs": [
        {
          "output_type": "execute_result",
          "data": {
            "text/html": [
              "<div>\n",
              "<style scoped>\n",
              "    .dataframe tbody tr th:only-of-type {\n",
              "        vertical-align: middle;\n",
              "    }\n",
              "\n",
              "    .dataframe tbody tr th {\n",
              "        vertical-align: top;\n",
              "    }\n",
              "\n",
              "    .dataframe thead th {\n",
              "        text-align: right;\n",
              "    }\n",
              "</style>\n",
              "<table border=\"1\" class=\"dataframe\">\n",
              "  <thead>\n",
              "    <tr style=\"text-align: right;\">\n",
              "      <th></th>\n",
              "      <th>Score</th>\n",
              "      <th>review</th>\n",
              "    </tr>\n",
              "  </thead>\n",
              "  <tbody>\n",
              "    <tr>\n",
              "      <th>332577</th>\n",
              "      <td>5</td>\n",
              "      <td>yummy delicious wa publix yesterday saw start...</td>\n",
              "    </tr>\n",
              "    <tr>\n",
              "      <th>306935</th>\n",
              "      <td>4</td>\n",
              "      <td>okay larger one find small ounce one stringy ...</td>\n",
              "    </tr>\n",
              "    <tr>\n",
              "      <th>460063</th>\n",
              "      <td>5</td>\n",
              "      <td>running typically marathon runner bread butte...</td>\n",
              "    </tr>\n",
              "    <tr>\n",
              "      <th>562071</th>\n",
              "      <td>1</td>\n",
              "      <td>waste tried product tonight first time disapp...</td>\n",
              "    </tr>\n",
              "    <tr>\n",
              "      <th>145608</th>\n",
              "      <td>5</td>\n",
              "      <td>dont know missing never cuppa earl grey tea m...</td>\n",
              "    </tr>\n",
              "  </tbody>\n",
              "</table>\n",
              "</div>"
            ],
            "text/plain": [
              "        Score                                             review\n",
              "332577      5   yummy delicious wa publix yesterday saw start...\n",
              "306935      4   okay larger one find small ounce one stringy ...\n",
              "460063      5   running typically marathon runner bread butte...\n",
              "562071      1   waste tried product tonight first time disapp...\n",
              "145608      5   dont know missing never cuppa earl grey tea m..."
            ]
          },
          "metadata": {
            "tags": []
          },
          "execution_count": 28
        }
      ]
    },
    {
      "cell_type": "code",
      "metadata": {
        "id": "FzpJYg7ILdDG",
        "colab_type": "code",
        "colab": {}
      },
      "source": [
        "## preprocessing test set\n",
        "test['review'] = test['review'].apply(lambda t: clean_text(t))"
      ],
      "execution_count": null,
      "outputs": []
    },
    {
      "cell_type": "code",
      "metadata": {
        "id": "yiwfom4eLihD",
        "colab_type": "code",
        "colab": {
          "base_uri": "https://localhost:8080/",
          "height": 204
        },
        "outputId": "f898eb7e-1da8-421b-eb87-6c65495b6949"
      },
      "source": [
        "## show test set\n",
        "test.head()"
      ],
      "execution_count": null,
      "outputs": [
        {
          "output_type": "execute_result",
          "data": {
            "text/html": [
              "<div>\n",
              "<style scoped>\n",
              "    .dataframe tbody tr th:only-of-type {\n",
              "        vertical-align: middle;\n",
              "    }\n",
              "\n",
              "    .dataframe tbody tr th {\n",
              "        vertical-align: top;\n",
              "    }\n",
              "\n",
              "    .dataframe thead th {\n",
              "        text-align: right;\n",
              "    }\n",
              "</style>\n",
              "<table border=\"1\" class=\"dataframe\">\n",
              "  <thead>\n",
              "    <tr style=\"text-align: right;\">\n",
              "      <th></th>\n",
              "      <th>Score</th>\n",
              "      <th>review</th>\n",
              "    </tr>\n",
              "  </thead>\n",
              "  <tbody>\n",
              "    <tr>\n",
              "      <th>0</th>\n",
              "      <td>5</td>\n",
              "      <td>good quality dog food bought several vitality...</td>\n",
              "    </tr>\n",
              "    <tr>\n",
              "      <th>2</th>\n",
              "      <td>4</td>\n",
              "      <td>delight say confection ha around century ligh...</td>\n",
              "    </tr>\n",
              "    <tr>\n",
              "      <th>9</th>\n",
              "      <td>5</td>\n",
              "      <td>healthy dog food healthy dog food good digest...</td>\n",
              "    </tr>\n",
              "    <tr>\n",
              "      <th>13</th>\n",
              "      <td>4</td>\n",
              "      <td>fresh greasy good flavor came securely packed...</td>\n",
              "    </tr>\n",
              "    <tr>\n",
              "      <th>33</th>\n",
              "      <td>4</td>\n",
              "      <td>good instant good instant oatmeal best oatmea...</td>\n",
              "    </tr>\n",
              "  </tbody>\n",
              "</table>\n",
              "</div>"
            ],
            "text/plain": [
              "    Score                                             review\n",
              "0       5   good quality dog food bought several vitality...\n",
              "2       4   delight say confection ha around century ligh...\n",
              "9       5   healthy dog food healthy dog food good digest...\n",
              "13      4   fresh greasy good flavor came securely packed...\n",
              "33      4   good instant good instant oatmeal best oatmea..."
            ]
          },
          "metadata": {
            "tags": []
          },
          "execution_count": 30
        }
      ]
    },
    {
      "cell_type": "code",
      "metadata": {
        "id": "JTLuyQhVL4P6",
        "colab_type": "code",
        "colab": {}
      },
      "source": [
        ""
      ],
      "execution_count": null,
      "outputs": []
    },
    {
      "cell_type": "markdown",
      "metadata": {
        "id": "hHmiONO2qisH",
        "colab_type": "text"
      },
      "source": [
        "## **Step5: Extract Features**"
      ]
    },
    {
      "cell_type": "code",
      "metadata": {
        "id": "-4w-Z08jqpX9",
        "colab_type": "code",
        "colab": {}
      },
      "source": [
        "## hyperparameters \n",
        "max_length = 200\n",
        "oov_token = '<OOV>'\n",
        "trunc_type = 'post'\n",
        "padding_type = 'post'\n",
        "embedding_dim = 100"
      ],
      "execution_count": null,
      "outputs": []
    },
    {
      "cell_type": "markdown",
      "metadata": {
        "id": "2FkuuryeqzwN",
        "colab_type": "text"
      },
      "source": [
        "#### **Text Data Vectorization**"
      ]
    },
    {
      "cell_type": "code",
      "metadata": {
        "id": "aPzHdwqrq0yC",
        "colab_type": "code",
        "colab": {}
      },
      "source": [
        "from tensorflow.keras.preprocessing.text import Tokenizer\n",
        "from tensorflow.keras.preprocessing.sequence import pad_sequences"
      ],
      "execution_count": null,
      "outputs": []
    },
    {
      "cell_type": "code",
      "metadata": {
        "id": "Q88AEd5Xq3uw",
        "colab_type": "code",
        "colab": {}
      },
      "source": [
        "## create tokenizer\n",
        "tokenizer = Tokenizer(oov_token= oov_token)\n",
        "tokenizer.fit_on_texts(train['review'])"
      ],
      "execution_count": null,
      "outputs": []
    },
    {
      "cell_type": "code",
      "metadata": {
        "id": "-RUnSYgYtjFp",
        "colab_type": "code",
        "colab": {
          "base_uri": "https://localhost:8080/",
          "height": 204
        },
        "outputId": "d0bf34cf-5a7a-4b40-c2cc-b3248bbd0943"
      },
      "source": [
        "## list of word index \n",
        "word_index = tokenizer.word_index \n",
        "display(len(word_index))\n",
        "display(dict(list(word_index.items())[0:10]))"
      ],
      "execution_count": null,
      "outputs": [
        {
          "output_type": "display_data",
          "data": {
            "text/plain": [
              "213145"
            ]
          },
          "metadata": {
            "tags": []
          }
        },
        {
          "output_type": "display_data",
          "data": {
            "text/plain": [
              "{'<OOV>': 1,\n",
              " 'br': 4,\n",
              " 'flavor': 10,\n",
              " 'good': 5,\n",
              " 'great': 6,\n",
              " 'like': 3,\n",
              " 'love': 8,\n",
              " 'product': 9,\n",
              " 'taste': 7,\n",
              " 'wa': 2}"
            ]
          },
          "metadata": {
            "tags": []
          }
        }
      ]
    },
    {
      "cell_type": "code",
      "metadata": {
        "id": "IBEWI7ryu1cX",
        "colab_type": "code",
        "colab": {}
      },
      "source": [
        "## convert text to vector with same size \n",
        "train_sequences = tokenizer.texts_to_sequences(train['review'])\n",
        "x_train = pad_sequences(train_sequences,maxlen=max_length,padding=padding_type , truncating=trunc_type)\n",
        "y_train = train['Score'].to_numpy().reshape((-1,1))"
      ],
      "execution_count": null,
      "outputs": []
    },
    {
      "cell_type": "code",
      "metadata": {
        "id": "cMMSZRS9vGyV",
        "colab_type": "code",
        "colab": {
          "base_uri": "https://localhost:8080/",
          "height": 51
        },
        "outputId": "b35d6e10-5d9f-4a8d-985c-3e60a6cf0a5b"
      },
      "source": [
        "## train set shape \n",
        "display(x_train.shape)\n",
        "display(y_train.shape)"
      ],
      "execution_count": null,
      "outputs": [
        {
          "output_type": "display_data",
          "data": {
            "text/plain": [
              "(511584, 200)"
            ]
          },
          "metadata": {
            "tags": []
          }
        },
        {
          "output_type": "display_data",
          "data": {
            "text/plain": [
              "(511584, 1)"
            ]
          },
          "metadata": {
            "tags": []
          }
        }
      ]
    },
    {
      "cell_type": "code",
      "metadata": {
        "id": "9MSouI8UvKVo",
        "colab_type": "code",
        "colab": {}
      },
      "source": [
        "## convert text to vector with same size \n",
        "test_sequences = tokenizer.texts_to_sequences(test['review'])\n",
        "x_test = pad_sequences(test_sequences,maxlen=max_length,padding=padding_type , truncating=trunc_type)\n",
        "y_test = test['Score'].to_numpy().reshape((-1,1))"
      ],
      "execution_count": null,
      "outputs": []
    },
    {
      "cell_type": "code",
      "metadata": {
        "id": "O-mbKKMKva_0",
        "colab_type": "code",
        "colab": {
          "base_uri": "https://localhost:8080/",
          "height": 51
        },
        "outputId": "fd6d352b-3a75-4905-fb20-d9cafb45179b"
      },
      "source": [
        "## test set shape\n",
        "display(x_test.shape)\n",
        "display(y_test.shape)"
      ],
      "execution_count": null,
      "outputs": [
        {
          "output_type": "display_data",
          "data": {
            "text/plain": [
              "(56843, 200)"
            ]
          },
          "metadata": {
            "tags": []
          }
        },
        {
          "output_type": "display_data",
          "data": {
            "text/plain": [
              "(56843, 1)"
            ]
          },
          "metadata": {
            "tags": []
          }
        }
      ]
    },
    {
      "cell_type": "code",
      "metadata": {
        "id": "tjK-oD9UvjuT",
        "colab_type": "code",
        "colab": {}
      },
      "source": [
        ""
      ],
      "execution_count": null,
      "outputs": []
    },
    {
      "cell_type": "markdown",
      "metadata": {
        "id": "UuV0BZEWvlFG",
        "colab_type": "text"
      },
      "source": [
        "#### **Embedding Matrix with Word2Vec**"
      ]
    },
    {
      "cell_type": "code",
      "metadata": {
        "id": "XSdL1mQjvoEK",
        "colab_type": "code",
        "colab": {}
      },
      "source": [
        "from gensim.models import Word2Vec\n",
        "import numpy as np \n",
        "import warnings\n",
        "\n",
        "warnings.filterwarnings(\"ignore\", category=DeprecationWarning)"
      ],
      "execution_count": null,
      "outputs": []
    },
    {
      "cell_type": "code",
      "metadata": {
        "id": "wZaKfGgL-hZU",
        "colab_type": "code",
        "colab": {}
      },
      "source": [
        "vocab_size = len(word_index)+1"
      ],
      "execution_count": null,
      "outputs": []
    },
    {
      "cell_type": "code",
      "metadata": {
        "id": "Z_6qw0JOvrxb",
        "colab_type": "code",
        "colab": {}
      },
      "source": [
        "## convert text to list of words\n",
        "docs = []\n",
        "for doc in train['review'].tolist(): \n",
        "  docs.append(doc.split())"
      ],
      "execution_count": null,
      "outputs": []
    },
    {
      "cell_type": "code",
      "metadata": {
        "id": "wa6za7O_vx02",
        "colab_type": "code",
        "colab": {
          "base_uri": "https://localhost:8080/",
          "height": 34
        },
        "outputId": "fa7438f8-7284-4afb-bbb1-11834fa55773"
      },
      "source": [
        "## create model \n",
        "model = Word2Vec(docs ,min_count=1, size=embedding_dim , window=5,workers=8)\n",
        "print(model)"
      ],
      "execution_count": null,
      "outputs": [
        {
          "output_type": "stream",
          "text": [
            "Word2Vec(vocab=213144, size=100, alpha=0.025)\n"
          ],
          "name": "stdout"
        }
      ]
    },
    {
      "cell_type": "code",
      "metadata": {
        "id": "EHSgQ-6Sy9Pv",
        "colab_type": "code",
        "colab": {}
      },
      "source": [
        "vocabulary = list(model.wv.vocab)\n",
        "vectors = model[model.wv.vocab]"
      ],
      "execution_count": null,
      "outputs": []
    },
    {
      "cell_type": "code",
      "metadata": {
        "id": "bmrzAcDMwnZD",
        "colab_type": "code",
        "colab": {}
      },
      "source": [
        "## create dictionary (key , value) - emdeddings_index(word , vector)\n",
        "embeddings_index = {}\n",
        "for i , word in enumerate(vocabulary):\n",
        "  embeddings_index[word] = vectors[i]"
      ],
      "execution_count": null,
      "outputs": []
    },
    {
      "cell_type": "code",
      "metadata": {
        "id": "iGUYVIHoySij",
        "colab_type": "code",
        "colab": {
          "base_uri": "https://localhost:8080/",
          "height": 34
        },
        "outputId": "baf5f9c1-9bda-4842-82e2-b2f7e2b28d6a"
      },
      "source": [
        "## convert word in word_index to vector\n",
        "embedding_matrix = np.random.random((vocab_size, embedding_dim))\n",
        "print(embedding_matrix.shape)\n",
        "for word, i in word_index.items():\n",
        "    embedding_vector = embeddings_index.get(word)\n",
        "    if embedding_vector is not None:\n",
        "        embedding_matrix[i] = embedding_vector"
      ],
      "execution_count": null,
      "outputs": [
        {
          "output_type": "stream",
          "text": [
            "(213146, 100)\n"
          ],
          "name": "stdout"
        }
      ]
    },
    {
      "cell_type": "code",
      "metadata": {
        "id": "y5jgY-P4yZB1",
        "colab_type": "code",
        "colab": {}
      },
      "source": [
        ""
      ],
      "execution_count": null,
      "outputs": []
    },
    {
      "cell_type": "markdown",
      "metadata": {
        "id": "w0YxddHSyZ5W",
        "colab_type": "text"
      },
      "source": [
        "## **Step6: Training Model**"
      ]
    },
    {
      "cell_type": "code",
      "metadata": {
        "id": "Z4EwbWwNyfVj",
        "colab_type": "code",
        "colab": {}
      },
      "source": [
        "from tensorflow.keras import Sequential\n",
        "from tensorflow.keras.layers import Embedding , Bidirectional , LSTM , Dense , Dropout\n",
        "from tensorflow.keras.initializers import Constant"
      ],
      "execution_count": null,
      "outputs": []
    },
    {
      "cell_type": "code",
      "metadata": {
        "id": "3bIuIraH1b9q",
        "colab_type": "code",
        "colab": {
          "base_uri": "https://localhost:8080/",
          "height": 357
        },
        "outputId": "93dd243f-bbdc-4ffe-b95b-4871b7eb64eb"
      },
      "source": [
        "## create model \n",
        "model = Sequential([\n",
        "                    Embedding(vocab_size,embedding_dim,input_length=max_length , embeddings_initializer=Constant(embedding_matrix) , trainable=False),\n",
        "                    LSTM(embedding_dim ,return_sequences=False),\n",
        "                    Dense(128 , activation='relu'),\n",
        "                    Dropout(0.5),\n",
        "                    Dense(64 , activation='relu'),\n",
        "                    Dense(6,activation='softmax')\n",
        "])\n",
        "model.summary()"
      ],
      "execution_count": null,
      "outputs": [
        {
          "output_type": "stream",
          "text": [
            "Model: \"sequential\"\n",
            "_________________________________________________________________\n",
            "Layer (type)                 Output Shape              Param #   \n",
            "=================================================================\n",
            "embedding (Embedding)        (None, 200, 100)          21314600  \n",
            "_________________________________________________________________\n",
            "lstm (LSTM)                  (None, 100)               80400     \n",
            "_________________________________________________________________\n",
            "dense (Dense)                (None, 128)               12928     \n",
            "_________________________________________________________________\n",
            "dropout (Dropout)            (None, 128)               0         \n",
            "_________________________________________________________________\n",
            "dense_1 (Dense)              (None, 64)                8256      \n",
            "_________________________________________________________________\n",
            "dense_2 (Dense)              (None, 6)                 390       \n",
            "=================================================================\n",
            "Total params: 21,416,574\n",
            "Trainable params: 101,974\n",
            "Non-trainable params: 21,314,600\n",
            "_________________________________________________________________\n"
          ],
          "name": "stdout"
        }
      ]
    },
    {
      "cell_type": "code",
      "metadata": {
        "id": "xOp4t-fX-qc_",
        "colab_type": "code",
        "colab": {}
      },
      "source": [
        "## compile model \n",
        "model.compile(loss='sparse_categorical_crossentropy', optimizer='adam' , metrics=['accuracy'])"
      ],
      "execution_count": null,
      "outputs": []
    },
    {
      "cell_type": "code",
      "metadata": {
        "id": "TUVgeUBn-vBZ",
        "colab_type": "code",
        "colab": {
          "base_uri": "https://localhost:8080/",
          "height": 153
        },
        "outputId": "df9434bc-f259-496f-9e9f-be33cce315f9"
      },
      "source": [
        "## fit model \n",
        "history = model.fit(x=x_train , y=y_train ,validation_split=0.2, epochs=4 ,verbose=1)"
      ],
      "execution_count": 49,
      "outputs": [
        {
          "output_type": "stream",
          "text": [
            "Epoch 1/4\n",
            "12790/12790 [==============================] - 1947s 152ms/step - loss: 1.1348 - accuracy: 0.6386 - val_loss: 1.1283 - val_accuracy: 0.6409\n",
            "Epoch 2/4\n",
            "12790/12790 [==============================] - 1965s 154ms/step - loss: 0.7920 - accuracy: 0.7082 - val_loss: 0.7029 - val_accuracy: 0.7397\n",
            "Epoch 3/4\n",
            "12790/12790 [==============================] - 1953s 153ms/step - loss: 0.6825 - accuracy: 0.7432 - val_loss: 0.6759 - val_accuracy: 0.7480\n",
            "Epoch 4/4\n",
            "12790/12790 [==============================] - 1950s 152ms/step - loss: 0.6475 - accuracy: 0.7570 - val_loss: 0.6510 - val_accuracy: 0.7565\n"
          ],
          "name": "stdout"
        }
      ]
    },
    {
      "cell_type": "code",
      "metadata": {
        "id": "T-cIiFwnzWl3",
        "colab_type": "code",
        "colab": {}
      },
      "source": [
        "## save model \n",
        "model.save('/content/drive/My Drive/Google Colab/Amazon Fine Food Reviews/model.h5')"
      ],
      "execution_count": 50,
      "outputs": []
    },
    {
      "cell_type": "markdown",
      "metadata": {
        "id": "V8r4lDdy2ViU",
        "colab_type": "text"
      },
      "source": [
        "## **Step7: Evaluating Model**"
      ]
    },
    {
      "cell_type": "code",
      "metadata": {
        "id": "GuT_rQa82aLO",
        "colab_type": "code",
        "colab": {}
      },
      "source": [
        "import matplotlib.pyplot as plt"
      ],
      "execution_count": 51,
      "outputs": []
    },
    {
      "cell_type": "markdown",
      "metadata": {
        "id": "gvtQn65LzZHj",
        "colab_type": "text"
      },
      "source": [
        "#### **Plot Accuracy and Loss (train-validation)**"
      ]
    },
    {
      "cell_type": "code",
      "metadata": {
        "id": "OUJ3mw3IzMCP",
        "colab_type": "code",
        "colab": {
          "base_uri": "https://localhost:8080/",
          "height": 334
        },
        "outputId": "0d7f7394-9f52-408e-a4aa-62fce94217c8"
      },
      "source": [
        "fig , (ax1 , ax2) = plt.subplots(nrows=1 , ncols=2,figsize=(10,5))\n",
        "# plot accuracy \n",
        "ax1.plot(history.history[\"accuracy\"],label=\"accuracy\")\n",
        "ax1.plot(history.history[\"val_accuracy\"],label=\"val_accuracy\")\n",
        "ax1.set_xlabel(\"Epochs\")\n",
        "ax1.set_ylabel(\"accuracy\")\n",
        "ax1.legend()\n",
        "# plot loss\n",
        "ax2.plot(history.history[\"loss\"] , label=\"loss\")\n",
        "ax2.plot(history.history[\"val_loss\"] , label = \"val_loss\")\n",
        "ax2.set_xlabel(\"Epochs\")\n",
        "ax2.set_ylabel(\"loss\")\n",
        "\n",
        "ax2.legend()\n",
        "plt.show()"
      ],
      "execution_count": 52,
      "outputs": [
        {
          "output_type": "display_data",
          "data": {
            "image/png": "[encoded data removed]",
            "text/plain": [
              "<Figure size 720x360 with 2 Axes>"
            ]
          },
          "metadata": {
            "tags": [],
            "needs_background": "light"
          }
        }
      ]
    },
    {
      "cell_type": "markdown",
      "metadata": {
        "id": "jORjGrFGzxVk",
        "colab_type": "text"
      },
      "source": [
        "#### **Evaluate Test Set**"
      ]
    },
    {
      "cell_type": "code",
      "metadata": {
        "id": "S9ColsKh1MLP",
        "colab_type": "code",
        "colab": {}
      },
      "source": [
        "from sklearn.metrics import classification_report,confusion_matrix\n",
        "import numpy as np "
      ],
      "execution_count": 55,
      "outputs": []
    },
    {
      "cell_type": "code",
      "metadata": {
        "id": "6KHV4ldp2vSH",
        "colab_type": "code",
        "colab": {}
      },
      "source": [
        "## predict score x_test\n",
        "y_pred = np.argmax(model.predict(x_test),axis=-1)"
      ],
      "execution_count": 58,
      "outputs": []
    },
    {
      "cell_type": "code",
      "metadata": {
        "id": "0TQ3wsQ2bUXi",
        "colab_type": "code",
        "colab": {
          "base_uri": "https://localhost:8080/",
          "height": 34
        },
        "outputId": "2db5593f-2737-4da9-c5fb-60a946da8a9f"
      },
      "source": [
        "y_pred"
      ],
      "execution_count": 59,
      "outputs": [
        {
          "output_type": "execute_result",
          "data": {
            "text/plain": [
              "array([5, 5, 5, ..., 1, 5, 5])"
            ]
          },
          "metadata": {
            "tags": []
          },
          "execution_count": 59
        }
      ]
    },
    {
      "cell_type": "code",
      "metadata": {
        "id": "941QgsIfzLE4",
        "colab_type": "code",
        "colab": {
          "base_uri": "https://localhost:8080/",
          "height": 221
        },
        "outputId": "f801a01f-4aa3-4ac0-d229-ee8af05d3893"
      },
      "source": [
        "## metrics \n",
        "print(classification_report(y_test.ravel(),y_pred,target_names=['class 1','class 2','class 3','class 4','class 5']))"
      ],
      "execution_count": 61,
      "outputs": [
        {
          "output_type": "stream",
          "text": [
            "              precision    recall  f1-score   support\n",
            "\n",
            "     class 1       0.75      0.62      0.68      5142\n",
            "     class 2       0.36      0.37      0.36      2958\n",
            "     class 3       0.44      0.39      0.42      4277\n",
            "     class 4       0.55      0.26      0.35      8073\n",
            "     class 5       0.83      0.96      0.89     36393\n",
            "\n",
            "    accuracy                           0.76     56843\n",
            "   macro avg       0.59      0.52      0.54     56843\n",
            "weighted avg       0.73      0.76      0.73     56843\n",
            "\n"
          ],
          "name": "stdout"
        }
      ]
    },
    {
      "cell_type": "code",
      "metadata": {
        "id": "EPCStwXb11Qs",
        "colab_type": "code",
        "colab": {
          "base_uri": "https://localhost:8080/",
          "height": 351
        },
        "outputId": "b808f871-cbc3-4d5f-cd79-5b2f04f0ee0c"
      },
      "source": [
        "## confusion matrix \n",
        "\n",
        "fig , ax = plt.subplots(nrows=1 , ncols=1,figsize=(10,5))\n",
        "cm = confusion_matrix(y_test.ravel(), y_pred)\n",
        "im = ax.imshow(cm, interpolation='nearest', cmap=plt.get_cmap('Blues'))\n",
        "ax.figure.colorbar(im, ax=ax)\n",
        "ax.set(xticks=np.arange(cm.shape[1]),\n",
        "                            yticks=np.arange(cm.shape[0]),\n",
        "                            xticklabels=[1,2,3,4,5], yticklabels=[1,2,3,4,5],\n",
        "                            title='Confusion Matrix',\n",
        "                            ylabel='True label',\n",
        "                            xlabel='Predicted label')\n",
        "plt.setp(ax.get_xticklabels(), rotation=45, ha=\"right\",\n",
        "                        rotation_mode=\"anchor\")\n",
        "fmt ='d'\n",
        "thresh = cm.max() / 2.\n",
        "for w in range(cm.shape[0]):\n",
        "  for z in range(cm.shape[1]):\n",
        "    ax.text(z, w, format(cm[w, z], fmt),\n",
        "            ha=\"center\", va=\"center\",\n",
        "            color=\"white\" if cm[w, z] > thresh else \"black\")\n",
        "plt.show()"
      ],
      "execution_count": 65,
      "outputs": [
        {
          "output_type": "display_data",
          "data": {
            "image/png": "[encoded data removed]",
            "text/plain": [
              "<Figure size 720x360 with 2 Axes>"
            ]
          },
          "metadata": {
            "tags": [],
            "needs_background": "light"
          }
        }
      ]
    }
  ]
}